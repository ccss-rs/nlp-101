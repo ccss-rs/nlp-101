{
 "cells": [
  {
   "cell_type": "markdown",
   "id": "b15aaaa7",
   "metadata": {},
   "source": [
    "# Natural Language Processing 101 Workshop\n",
    "## Demo 1- Text Pre-Processing\n",
    "\n",
    "In this demo, we'll be walking through how to perform the fundamentals of text \n",
    "pre-processing within R. Let's briefly go over the core packages that I've pre-downloaded \n",
    "into our session:\n",
    "* **readr** facilitates the easy uploading of external data files such as CSVs\n",
    "* **dplyr** promotes streamlined data frame creation and manipulation\n",
    "* **stringr** is all about working with text character strings\n",
    "* **tidytext** provides more specialized functions to prepare text data for various NLP use cases\n",
    "* **SnowballC** offers access to the popular Porter stemmer for word stemming- we'll cover this topic shortly!\n",
    "\n",
    "These libraries are all great resources for performing essential text pre-processing\n",
    "functions. I'll also load in our working data set of 10,000 comments scraped from\n",
    "r/nyc."
   ]
  },
  {
   "cell_type": "code",
   "execution_count": 1,
   "id": "abb034df",
   "metadata": {},
   "outputs": [
    {
     "ename": "ERROR",
     "evalue": "Error in library(readr): there is no package called ‘readr’\n",
     "output_type": "error",
     "traceback": [
      "Error in library(readr): there is no package called ‘readr’\nTraceback:\n",
      "1. library(readr)"
     ]
    }
   ],
   "source": [
    "library(readr)\n",
    "library(dplyr)\n",
    "library(stringr)\n",
    "library(tidytext)\n",
    "library(SnowballC)\n",
    "\n",
    "nyc <- read_csv(\"r_nyc_10k.csv\")"
   ]
  },
  {
   "cell_type": "markdown",
   "id": "da1961ac",
   "metadata": {},
   "source": [
    "---\n",
    "## 1.) Character Encoding\n",
    "\n",
    "Text is read into programs through designated **character encodings**.\n",
    "- The most common encoding types are *Unicode/UTF-8* and *ASCII*.\n",
    "- Without the right encoding schema, your NLP methods will likely raise an error.\n",
    "\n",
    "\n",
    "Let's check the character encoding of our r/nyc text data. The \"body\" column of the\n",
    "loaded data frame features the text of the scraped r/nyc comments. "
   ]
  },
  {
   "cell_type": "code",
   "execution_count": null,
   "id": "93d5ce49",
   "metadata": {},
   "outputs": [],
   "source": [
    "_____(nyc$body)"
   ]
  },
  {
   "cell_type": "markdown",
   "id": "e73d6e0f",
   "metadata": {},
   "source": [
    "Our 1 confidence score on the UTF-8 encoding for the text column of our data frame \n",
    "assures us that the following pre-processing methods should work without \n",
    "problems around character encoding. Let’s now inspect our data set in more detail."
   ]
  },
  {
   "cell_type": "code",
   "execution_count": null,
   "id": "04f64580",
   "metadata": {},
   "outputs": [],
   "source": [
    "head(nyc) "
   ]
  },
  {
   "cell_type": "markdown",
   "id": "e1cca068",
   "metadata": {},
   "source": [
    "This provides us with the first 10 records of our data set. “id” is the unique \n",
    "identifier for each comment, “author” lists the Reddit username who wrote the \n",
    "comment, “body” features the comments themselves, “score” refers to the \n",
    "Reddit system of being able to “upvote” or “downvote” comments similar to a \n",
    "like/dislike framework, and “date” as the year, month, and day the comment was posted. "
   ]
  },
  {
   "cell_type": "markdown",
   "id": "e9ead17e",
   "metadata": {},
   "source": [
    "--- \n",
    "## 2.) String Manipulation\n",
    "\n",
    "Text is stored as the *string* data type within programs, which led to the creation of string manipulation packages such as *stringr* that clean & prepare documents before conducting NLP analyses. Let's create a series of test strings to visualize the outcomes of some of the most popular *stringr* methods. "
   ]
  },
  {
   "cell_type": "code",
   "execution_count": null,
   "id": "93b69e93",
   "metadata": {},
   "outputs": [],
   "source": [
    "noisy_string <- \"The East Village- between its restaurants &amp cafes- has the best food in the city.\"\n",
    "concatenation_string <- \"I think it is my favorite neighborhood in all of New York.\"\n",
    "capital_string <- \"You think I just like pizza? No, I LOVE PIZZA!\""
   ]
  },
  {
   "cell_type": "markdown",
   "id": "a638364f",
   "metadata": {},
   "source": [
    "### 2A.) Deletion & Replacement"
   ]
  },
  {
   "cell_type": "markdown",
   "id": "d2817e25",
   "metadata": {},
   "source": [
    "Raw text data often includes unwanted characters that you'd like to either **delete** or **replace** before moving forward with an NLP analysis. A common example of this is leftover characters from HTML tags from text data sourced from websites. The *noisy_string* example includes '`&amp`', which refers to how the \"&\" symbol is represented within HTML. Let's therefore use a stringr function to remove '`&amp`' from the text and replace it with \"and\". "
   ]
  },
  {
   "cell_type": "code",
   "execution_count": null,
   "id": "93c371ce",
   "metadata": {},
   "outputs": [],
   "source": [
    "noisy_string <- _____(noisy_string, \"&amp\", \"and\")\n",
    "noisy_string"
   ]
  },
  {
   "cell_type": "markdown",
   "id": "910571c9",
   "metadata": {},
   "source": [
    "This successfully deletes “`&amp`” from the string. There's a \n",
    "wide range of additional types of noise a researcher may want to remove from text. \n",
    "While our last str_replace command is quite effective at removing exact matches\n",
    "with '`&amp`', *regular expressions (regexes)* are an additional tool that allows for greater flexibility to match a variety of character types. Regexes are used to match variable patterns within text such as email addresses or phone numbers.   \n",
    "\n",
    "One common use case for regexes within text pre-processing is to remove all types \n",
    "of punctuation, since many NLP methods would otherwise consider tokenized punctuation\n",
    "to be their own unique words. Luckily, there is a regex that specialize\n",
    "in matching with all punctuation. Let's use this to remove the punctuation found within *noisy_string*: "
   ]
  },
  {
   "cell_type": "code",
   "execution_count": null,
   "id": "58c6eb19",
   "metadata": {},
   "outputs": [],
   "source": [
    "_____(noisy_string, '_____')\n",
    "noisy_string"
   ]
  },
  {
   "cell_type": "markdown",
   "id": "cfbbae3e",
   "metadata": {},
   "source": [
    "### 2B.) Concatenation \n",
    "\n",
    "**Concatenation** refers to the combination of either seperate words or strings. Let's say that *noisy_string* and *concatenation_string* are actually from the same paragraph and we'd like to recombine these sentences into one document. We're able to acheive this as follows:"
   ]
  },
  {
   "cell_type": "code",
   "execution_count": null,
   "id": "4c594b73",
   "metadata": {},
   "outputs": [],
   "source": [
    "_____(noisy_string, concatenation_string)"
   ]
  },
  {
   "cell_type": "markdown",
   "id": "5a3a404c",
   "metadata": {},
   "source": [
    "You may also want to combine n-grams into single word units within your text, such as concatenating all instances of the bi-gram “New York” into the single token of “New_York.” Let's learn a stringr function to \n",
    "accomplish this goal within *concetenation_string*: "
   ]
  },
  {
   "cell_type": "code",
   "execution_count": null,
   "id": "cff20952",
   "metadata": {},
   "outputs": [],
   "source": [
    "_____(concatenation_string, \"New York\", \"_____\")"
   ]
  },
  {
   "cell_type": "markdown",
   "id": "4ca70cb8",
   "metadata": {},
   "source": [
    "### 2C.) Lowercasing\n",
    "It’s common within text pre-processing to convert all words to **lowercase**. Capitalization may lead an NLP method to consider the same words as separate entities based on casing alone, such as \"pizza\" and \"PIZZA\" in the *capital_string* example. We can solve this as follows:"
   ]
  },
  {
   "cell_type": "code",
   "execution_count": null,
   "id": "35bfa95b",
   "metadata": {},
   "outputs": [],
   "source": [
    "_____(capital_string)"
   ]
  },
  {
   "cell_type": "markdown",
   "id": "a3412ea3",
   "metadata": {},
   "source": [
    "---\n",
    "## 3.) Tokenization \n",
    "\n",
    "**Tokenization** refers to the segmentation of text components into units such as \n",
    "individual words, sentences, paragraphs, characters, or n-grams. Let's use\n",
    "the tidytext package to create a new data frame of our r/nyc comments split\n",
    "into word tokens. "
   ]
  },
  {
   "cell_type": "code",
   "execution_count": null,
   "id": "9147dc8c",
   "metadata": {},
   "outputs": [],
   "source": [
    "tokens <- nyc %>%\n",
    "    _____(\"_____\", body)\n",
    "\n",
    "head(tokens)"
   ]
  },
  {
   "cell_type": "markdown",
   "id": "2c612783",
   "metadata": {},
   "source": [
    "Our 10k original comments are now seperated into unique rows of individual word \n",
    "tokens. By default, unnest_tokens lowercases the tokens and removes punctuation \n",
    "from the original string, which would allow you to skip our previous regex string\n",
    "removal workflow."
   ]
  },
  {
   "cell_type": "markdown",
   "id": "03159a34",
   "metadata": {},
   "source": [
    "---\n",
    "## 4.) Stopword Removal\n",
    "\n",
    "**Stopword removal** refers to the process of deleting common words from text documents. \n",
    "- Common examples include \"and\", \"the\", and \"but\".\n",
    "- These words are often considered to be irrelevant to core NLP research interests. \n",
    "- Can also be domain-specific, such as deleting instances of \"NYC\" within the r/nyc subreddit.\n",
    "\n",
    "*Tidytext* comes with a \n",
    "pre-made common stopwords list that we can call and apply directly to our generated\n",
    "tokens data frame. "
   ]
  },
  {
   "cell_type": "code",
   "execution_count": null,
   "id": "cb540ee0",
   "metadata": {},
   "outputs": [],
   "source": [
    "data(_____)\n",
    "    \n",
    "tokens <- tokens %>%\n",
    "    _____(stop_words) \n",
    "\n",
    "head(tokens)"
   ]
  },
  {
   "cell_type": "markdown",
   "id": "fd99c39c",
   "metadata": {},
   "source": [
    "You'll notice how words such as \"the\", \"has\", and \"been\" that were previously found within the token data frame are removed after performing the stopword anti-join."
   ]
  },
  {
   "cell_type": "markdown",
   "id": "8b6e3a21",
   "metadata": {},
   "source": [
    "---\n",
    "## 5.) Stemming\n",
    "\n",
    "**Stemming** is used to manipulate text into its root word form.\n",
    "- \"swimmers\", \"swimming\", and \"swims\" would all be stemmed to \"swim\". \n",
    "- The idea behind this is all words can be represented by the same base concept.\n",
    "- Often used to reduce total vocabulary size & preserve computational memory. \n",
    "\n",
    "\n",
    "There are a variety of different stemming algorithms available with the most commonly used being the Porter stemmer. We can use the methods from the *SnowballC* package to stem our own tokenized r/nyc comments \n",
    "as follows. "
   ]
  },
  {
   "cell_type": "code",
   "execution_count": null,
   "id": "49f7d5cd",
   "metadata": {},
   "outputs": [],
   "source": [
    "stems <- tokens %>%\n",
    "  mutate(stem = _____(_____))\n",
    "\n",
    "head(stems)"
   ]
  },
  {
   "cell_type": "markdown",
   "id": "6ec728a3",
   "metadata": {},
   "source": [
    "Words such as \"shifting\" and \"gradually\" are now stemmed to their roots of \"shift\" and \"gradual\" respectively. Note that stemming frameworks often cut words to their roots in ways that are not intuitive to non-linguisticians, such as the Porter root stem of \"coupl\" for \"couple\". "
   ]
  },
  {
   "attachments": {
    "pos.png": {
     "image/png": "[encoded data removed]"
    }
   },
   "cell_type": "markdown",
   "id": "c1416a3a",
   "metadata": {},
   "source": [
    "---\n",
    "## 6.) Parts-of-Speech (POS) Tags\n",
    "**POS tags** identifies the grammatic and lexical classes that words in your text data belong to. The following image captures a selection of these tags- you can think of nouns, verbs, conjugates, and the like. \n",
    "\n",
    "![pos.png](attachment:pos.png)\n",
    "\n",
    "There's a variety of packages \n",
    "that follow different POS tag rules, with *udpipe* - referring to the Universal\n",
    "Dependencies tagging schema- being a popular library choice for R. We won't run this code chunk within the demo itself since it takes a while to process, but feel free to experiment with POS tags on your own time \n",
    "following the workflow delineated below. "
   ]
  },
  {
   "cell_type": "code",
   "execution_count": null,
   "id": "8790519a",
   "metadata": {},
   "outputs": [],
   "source": [
    "library(\"udpipe\")\n",
    "\n",
    "## Donwload & load the POS tags for English\n",
    "model <- udpipe_download_model(language = \"english\")\n",
    "model <- udpipe_load_model(model)\n",
    "\n",
    "## Annotation will take quite some time, particularly if you're using the \n",
    "## non-stopword version of our tokenized dataset \n",
    "tags <- udpipe_annotate(model, x = tokens$word)\n",
    "\n",
    "## The generated \"upos\" column in the following dataframe will have each token's \n",
    "## identified POS tags.\n",
    "pos <- as.data.frame(tags)"
   ]
  },
  {
   "cell_type": "markdown",
   "id": "ca2c3614",
   "metadata": {},
   "source": [
    "You've now completed the pre-processing demo and established a working knowledge\n",
    "of how to perform the fundamentals of text data pre-processing in R. Great job!"
   ]
  }
 ],
 "metadata": {
  "kernelspec": {
   "display_name": "R",
   "language": "R",
   "name": "ir"
  },
  "language_info": {
   "codemirror_mode": "r",
   "file_extension": ".r",
   "mimetype": "text/x-r-source",
   "name": "R",
   "pygments_lexer": "r",
   "version": "3.6.1"
  }
 },
 "nbformat": 4,
 "nbformat_minor": 5
}
